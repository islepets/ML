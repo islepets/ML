{
  "metadata": {
    "kernelspec": {
      "name": "python",
      "display_name": "Python (Pyodide)",
      "language": "python"
    },
    "language_info": {
      "codemirror_mode": {
        "name": "python",
        "version": 3
      },
      "file_extension": ".py",
      "mimetype": "text/x-python",
      "name": "python",
      "nbconvert_exporter": "python",
      "pygments_lexer": "ipython3",
      "version": "3.8"
    },
    "anaconda-cloud": {},
    "name": "seminar02_practice_pandas_titanic.ipynb"
  },
  "nbformat_minor": 4,
  "nbformat": 4,
  "cells": [
    {
      "cell_type": "markdown",
      "source": "# Лабораторная работа №1\n## Анализ пассажиров корабля \"Титаник\"\n\n**Заполните недостающий код (\"You code here\")**",
      "metadata": {}
    },
    {
      "cell_type": "code",
      "source": "import numpy as np\nimport pandas as pd\nfrom matplotlib import pyplot as plt\n# Graphics in SVG format are more sharp and legible\n%config InlineBackend.figure_format = 'svg'\npd.set_option(\"display.precision\", 2)",
      "metadata": {
        "trusted": true
      },
      "outputs": [
        {
          "name": "stderr",
          "output_type": "stream",
          "text": "Matplotlib is building the font cache; this may take a moment.\n"
        }
      ],
      "execution_count": 6
    },
    {
      "cell_type": "markdown",
      "source": "** Чтение данных в Pandas DataFrame**",
      "metadata": {}
    },
    {
      "cell_type": "code",
      "source": "data = pd.read_csv('titanic_train.csv',\n                  index_col='PassengerId')",
      "metadata": {
        "trusted": true
      },
      "outputs": [],
      "execution_count": 7
    },
    {
      "cell_type": "markdown",
      "source": "**Первые 5 строк**",
      "metadata": {}
    },
    {
      "cell_type": "code",
      "source": "data.head(5)",
      "metadata": {
        "trusted": true
      },
      "outputs": [
        {
          "execution_count": 8,
          "output_type": "execute_result",
          "data": {
            "text/plain": "             Survived  Pclass  \\\nPassengerId                     \n1                   0       3   \n2                   1       1   \n3                   1       3   \n4                   1       1   \n5                   0       3   \n\n                                                          Name     Sex   Age  \\\nPassengerId                                                                    \n1                                      Braund, Mr. Owen Harris    male  22.0   \n2            Cumings, Mrs. John Bradley (Florence Briggs Th...  female  38.0   \n3                                       Heikkinen, Miss. Laina  female  26.0   \n4                 Futrelle, Mrs. Jacques Heath (Lily May Peel)  female  35.0   \n5                                     Allen, Mr. William Henry    male  35.0   \n\n             SibSp  Parch            Ticket   Fare Cabin Embarked  \nPassengerId                                                        \n1                1      0         A/5 21171   7.25   NaN        S  \n2                1      0          PC 17599  71.28   C85        C  \n3                0      0  STON/O2. 3101282   7.92   NaN        S  \n4                1      0            113803  53.10  C123        S  \n5                0      0            373450   8.05   NaN        S  ",
            "text/html": "<div>\n<style scoped>\n    .dataframe tbody tr th:only-of-type {\n        vertical-align: middle;\n    }\n\n    .dataframe tbody tr th {\n        vertical-align: top;\n    }\n\n    .dataframe thead th {\n        text-align: right;\n    }\n</style>\n<table border=\"1\" class=\"dataframe\">\n  <thead>\n    <tr style=\"text-align: right;\">\n      <th></th>\n      <th>Survived</th>\n      <th>Pclass</th>\n      <th>Name</th>\n      <th>Sex</th>\n      <th>Age</th>\n      <th>SibSp</th>\n      <th>Parch</th>\n      <th>Ticket</th>\n      <th>Fare</th>\n      <th>Cabin</th>\n      <th>Embarked</th>\n    </tr>\n    <tr>\n      <th>PassengerId</th>\n      <th></th>\n      <th></th>\n      <th></th>\n      <th></th>\n      <th></th>\n      <th></th>\n      <th></th>\n      <th></th>\n      <th></th>\n      <th></th>\n      <th></th>\n    </tr>\n  </thead>\n  <tbody>\n    <tr>\n      <th>1</th>\n      <td>0</td>\n      <td>3</td>\n      <td>Braund, Mr. Owen Harris</td>\n      <td>male</td>\n      <td>22.0</td>\n      <td>1</td>\n      <td>0</td>\n      <td>A/5 21171</td>\n      <td>7.25</td>\n      <td>NaN</td>\n      <td>S</td>\n    </tr>\n    <tr>\n      <th>2</th>\n      <td>1</td>\n      <td>1</td>\n      <td>Cumings, Mrs. John Bradley (Florence Briggs Th...</td>\n      <td>female</td>\n      <td>38.0</td>\n      <td>1</td>\n      <td>0</td>\n      <td>PC 17599</td>\n      <td>71.28</td>\n      <td>C85</td>\n      <td>C</td>\n    </tr>\n    <tr>\n      <th>3</th>\n      <td>1</td>\n      <td>3</td>\n      <td>Heikkinen, Miss. Laina</td>\n      <td>female</td>\n      <td>26.0</td>\n      <td>0</td>\n      <td>0</td>\n      <td>STON/O2. 3101282</td>\n      <td>7.92</td>\n      <td>NaN</td>\n      <td>S</td>\n    </tr>\n    <tr>\n      <th>4</th>\n      <td>1</td>\n      <td>1</td>\n      <td>Futrelle, Mrs. Jacques Heath (Lily May Peel)</td>\n      <td>female</td>\n      <td>35.0</td>\n      <td>1</td>\n      <td>0</td>\n      <td>113803</td>\n      <td>53.10</td>\n      <td>C123</td>\n      <td>S</td>\n    </tr>\n    <tr>\n      <th>5</th>\n      <td>0</td>\n      <td>3</td>\n      <td>Allen, Mr. William Henry</td>\n      <td>male</td>\n      <td>35.0</td>\n      <td>0</td>\n      <td>0</td>\n      <td>373450</td>\n      <td>8.05</td>\n      <td>NaN</td>\n      <td>S</td>\n    </tr>\n  </tbody>\n</table>\n</div>"
          },
          "metadata": {}
        }
      ],
      "execution_count": 8
    },
    {
      "cell_type": "code",
      "source": "data.describe()",
      "metadata": {
        "trusted": true
      },
      "outputs": [
        {
          "execution_count": 9,
          "output_type": "execute_result",
          "data": {
            "text/plain": "       Survived  Pclass     Age   SibSp   Parch    Fare\ncount    891.00  891.00  714.00  891.00  891.00  891.00\nmean       0.38    2.31   29.70    0.52    0.38   32.20\nstd        0.49    0.84   14.53    1.10    0.81   49.69\nmin        0.00    1.00    0.42    0.00    0.00    0.00\n25%        0.00    2.00   20.12    0.00    0.00    7.91\n50%        0.00    3.00   28.00    0.00    0.00   14.45\n75%        1.00    3.00   38.00    1.00    0.00   31.00\nmax        1.00    3.00   80.00    8.00    6.00  512.33",
            "text/html": "<div>\n<style scoped>\n    .dataframe tbody tr th:only-of-type {\n        vertical-align: middle;\n    }\n\n    .dataframe tbody tr th {\n        vertical-align: top;\n    }\n\n    .dataframe thead th {\n        text-align: right;\n    }\n</style>\n<table border=\"1\" class=\"dataframe\">\n  <thead>\n    <tr style=\"text-align: right;\">\n      <th></th>\n      <th>Survived</th>\n      <th>Pclass</th>\n      <th>Age</th>\n      <th>SibSp</th>\n      <th>Parch</th>\n      <th>Fare</th>\n    </tr>\n  </thead>\n  <tbody>\n    <tr>\n      <th>count</th>\n      <td>891.00</td>\n      <td>891.00</td>\n      <td>714.00</td>\n      <td>891.00</td>\n      <td>891.00</td>\n      <td>891.00</td>\n    </tr>\n    <tr>\n      <th>mean</th>\n      <td>0.38</td>\n      <td>2.31</td>\n      <td>29.70</td>\n      <td>0.52</td>\n      <td>0.38</td>\n      <td>32.20</td>\n    </tr>\n    <tr>\n      <th>std</th>\n      <td>0.49</td>\n      <td>0.84</td>\n      <td>14.53</td>\n      <td>1.10</td>\n      <td>0.81</td>\n      <td>49.69</td>\n    </tr>\n    <tr>\n      <th>min</th>\n      <td>0.00</td>\n      <td>1.00</td>\n      <td>0.42</td>\n      <td>0.00</td>\n      <td>0.00</td>\n      <td>0.00</td>\n    </tr>\n    <tr>\n      <th>25%</th>\n      <td>0.00</td>\n      <td>2.00</td>\n      <td>20.12</td>\n      <td>0.00</td>\n      <td>0.00</td>\n      <td>7.91</td>\n    </tr>\n    <tr>\n      <th>50%</th>\n      <td>0.00</td>\n      <td>3.00</td>\n      <td>28.00</td>\n      <td>0.00</td>\n      <td>0.00</td>\n      <td>14.45</td>\n    </tr>\n    <tr>\n      <th>75%</th>\n      <td>1.00</td>\n      <td>3.00</td>\n      <td>38.00</td>\n      <td>1.00</td>\n      <td>0.00</td>\n      <td>31.00</td>\n    </tr>\n    <tr>\n      <th>max</th>\n      <td>1.00</td>\n      <td>3.00</td>\n      <td>80.00</td>\n      <td>8.00</td>\n      <td>6.00</td>\n      <td>512.33</td>\n    </tr>\n  </tbody>\n</table>\n</div>"
          },
          "metadata": {}
        }
      ],
      "execution_count": 9
    },
    {
      "cell_type": "markdown",
      "source": "**Давайте выберем тех пассажиров, которые отправились в Cherbourg (Embarked = C) и заплатили > 200 фунтов за билет (fare > 200).**\n\nУбедитесь, что вы понимаете, как на самом деле работает эта конструкция.",
      "metadata": {}
    },
    {
      "cell_type": "code",
      "source": "data[(data['Embarked'] == 'C') & (data.Fare > 200)].head()",
      "metadata": {
        "trusted": true
      },
      "outputs": [
        {
          "execution_count": 10,
          "output_type": "execute_result",
          "data": {
            "text/plain": "             Survived  Pclass  \\\nPassengerId                     \n119                 0       1   \n259                 1       1   \n300                 1       1   \n312                 1       1   \n378                 0       1   \n\n                                                        Name     Sex   Age  \\\nPassengerId                                                                  \n119                                 Baxter, Mr. Quigg Edmond    male  24.0   \n259                                         Ward, Miss. Anna  female  35.0   \n300          Baxter, Mrs. James (Helene DeLaudeniere Chaput)  female  50.0   \n312                               Ryerson, Miss. Emily Borie  female  18.0   \n378                                Widener, Mr. Harry Elkins    male  27.0   \n\n             SibSp  Parch    Ticket    Fare            Cabin Embarked  \nPassengerId                                                            \n119              0      1  PC 17558  247.52          B58 B60        C  \n259              0      0  PC 17755  512.33              NaN        C  \n300              0      1  PC 17558  247.52          B58 B60        C  \n312              2      2  PC 17608  262.38  B57 B59 B63 B66        C  \n378              0      2    113503  211.50              C82        C  ",
            "text/html": "<div>\n<style scoped>\n    .dataframe tbody tr th:only-of-type {\n        vertical-align: middle;\n    }\n\n    .dataframe tbody tr th {\n        vertical-align: top;\n    }\n\n    .dataframe thead th {\n        text-align: right;\n    }\n</style>\n<table border=\"1\" class=\"dataframe\">\n  <thead>\n    <tr style=\"text-align: right;\">\n      <th></th>\n      <th>Survived</th>\n      <th>Pclass</th>\n      <th>Name</th>\n      <th>Sex</th>\n      <th>Age</th>\n      <th>SibSp</th>\n      <th>Parch</th>\n      <th>Ticket</th>\n      <th>Fare</th>\n      <th>Cabin</th>\n      <th>Embarked</th>\n    </tr>\n    <tr>\n      <th>PassengerId</th>\n      <th></th>\n      <th></th>\n      <th></th>\n      <th></th>\n      <th></th>\n      <th></th>\n      <th></th>\n      <th></th>\n      <th></th>\n      <th></th>\n      <th></th>\n    </tr>\n  </thead>\n  <tbody>\n    <tr>\n      <th>119</th>\n      <td>0</td>\n      <td>1</td>\n      <td>Baxter, Mr. Quigg Edmond</td>\n      <td>male</td>\n      <td>24.0</td>\n      <td>0</td>\n      <td>1</td>\n      <td>PC 17558</td>\n      <td>247.52</td>\n      <td>B58 B60</td>\n      <td>C</td>\n    </tr>\n    <tr>\n      <th>259</th>\n      <td>1</td>\n      <td>1</td>\n      <td>Ward, Miss. Anna</td>\n      <td>female</td>\n      <td>35.0</td>\n      <td>0</td>\n      <td>0</td>\n      <td>PC 17755</td>\n      <td>512.33</td>\n      <td>NaN</td>\n      <td>C</td>\n    </tr>\n    <tr>\n      <th>300</th>\n      <td>1</td>\n      <td>1</td>\n      <td>Baxter, Mrs. James (Helene DeLaudeniere Chaput)</td>\n      <td>female</td>\n      <td>50.0</td>\n      <td>0</td>\n      <td>1</td>\n      <td>PC 17558</td>\n      <td>247.52</td>\n      <td>B58 B60</td>\n      <td>C</td>\n    </tr>\n    <tr>\n      <th>312</th>\n      <td>1</td>\n      <td>1</td>\n      <td>Ryerson, Miss. Emily Borie</td>\n      <td>female</td>\n      <td>18.0</td>\n      <td>2</td>\n      <td>2</td>\n      <td>PC 17608</td>\n      <td>262.38</td>\n      <td>B57 B59 B63 B66</td>\n      <td>C</td>\n    </tr>\n    <tr>\n      <th>378</th>\n      <td>0</td>\n      <td>1</td>\n      <td>Widener, Mr. Harry Elkins</td>\n      <td>male</td>\n      <td>27.0</td>\n      <td>0</td>\n      <td>2</td>\n      <td>113503</td>\n      <td>211.50</td>\n      <td>C82</td>\n      <td>C</td>\n    </tr>\n  </tbody>\n</table>\n</div>"
          },
          "metadata": {}
        }
      ],
      "execution_count": 10
    },
    {
      "cell_type": "markdown",
      "source": "** Мы можем отсортировать этих людей по тарифу (Fare) в порядке убывания. **",
      "metadata": {}
    },
    {
      "cell_type": "code",
      "source": "data[(data['Embarked'] == 'C') & \n     (data['Fare'] > 200)].sort_values(by='Fare',\n                               ascending=False).head()",
      "metadata": {
        "trusted": true
      },
      "outputs": [
        {
          "execution_count": 11,
          "output_type": "execute_result",
          "data": {
            "text/plain": "             Survived  Pclass                                   Name     Sex  \\\nPassengerId                                                                    \n259                 1       1                       Ward, Miss. Anna  female   \n680                 1       1     Cardeza, Mr. Thomas Drake Martinez    male   \n738                 1       1                 Lesurer, Mr. Gustave J    male   \n312                 1       1             Ryerson, Miss. Emily Borie  female   \n743                 1       1  Ryerson, Miss. Susan Parker \"Suzette\"  female   \n\n              Age  SibSp  Parch    Ticket    Fare            Cabin Embarked  \nPassengerId                                                                  \n259          35.0      0      0  PC 17755  512.33              NaN        C  \n680          36.0      0      1  PC 17755  512.33      B51 B53 B55        C  \n738          35.0      0      0  PC 17755  512.33             B101        C  \n312          18.0      2      2  PC 17608  262.38  B57 B59 B63 B66        C  \n743          21.0      2      2  PC 17608  262.38  B57 B59 B63 B66        C  ",
            "text/html": "<div>\n<style scoped>\n    .dataframe tbody tr th:only-of-type {\n        vertical-align: middle;\n    }\n\n    .dataframe tbody tr th {\n        vertical-align: top;\n    }\n\n    .dataframe thead th {\n        text-align: right;\n    }\n</style>\n<table border=\"1\" class=\"dataframe\">\n  <thead>\n    <tr style=\"text-align: right;\">\n      <th></th>\n      <th>Survived</th>\n      <th>Pclass</th>\n      <th>Name</th>\n      <th>Sex</th>\n      <th>Age</th>\n      <th>SibSp</th>\n      <th>Parch</th>\n      <th>Ticket</th>\n      <th>Fare</th>\n      <th>Cabin</th>\n      <th>Embarked</th>\n    </tr>\n    <tr>\n      <th>PassengerId</th>\n      <th></th>\n      <th></th>\n      <th></th>\n      <th></th>\n      <th></th>\n      <th></th>\n      <th></th>\n      <th></th>\n      <th></th>\n      <th></th>\n      <th></th>\n    </tr>\n  </thead>\n  <tbody>\n    <tr>\n      <th>259</th>\n      <td>1</td>\n      <td>1</td>\n      <td>Ward, Miss. Anna</td>\n      <td>female</td>\n      <td>35.0</td>\n      <td>0</td>\n      <td>0</td>\n      <td>PC 17755</td>\n      <td>512.33</td>\n      <td>NaN</td>\n      <td>C</td>\n    </tr>\n    <tr>\n      <th>680</th>\n      <td>1</td>\n      <td>1</td>\n      <td>Cardeza, Mr. Thomas Drake Martinez</td>\n      <td>male</td>\n      <td>36.0</td>\n      <td>0</td>\n      <td>1</td>\n      <td>PC 17755</td>\n      <td>512.33</td>\n      <td>B51 B53 B55</td>\n      <td>C</td>\n    </tr>\n    <tr>\n      <th>738</th>\n      <td>1</td>\n      <td>1</td>\n      <td>Lesurer, Mr. Gustave J</td>\n      <td>male</td>\n      <td>35.0</td>\n      <td>0</td>\n      <td>0</td>\n      <td>PC 17755</td>\n      <td>512.33</td>\n      <td>B101</td>\n      <td>C</td>\n    </tr>\n    <tr>\n      <th>312</th>\n      <td>1</td>\n      <td>1</td>\n      <td>Ryerson, Miss. Emily Borie</td>\n      <td>female</td>\n      <td>18.0</td>\n      <td>2</td>\n      <td>2</td>\n      <td>PC 17608</td>\n      <td>262.38</td>\n      <td>B57 B59 B63 B66</td>\n      <td>C</td>\n    </tr>\n    <tr>\n      <th>743</th>\n      <td>1</td>\n      <td>1</td>\n      <td>Ryerson, Miss. Susan Parker \"Suzette\"</td>\n      <td>female</td>\n      <td>21.0</td>\n      <td>2</td>\n      <td>2</td>\n      <td>PC 17608</td>\n      <td>262.38</td>\n      <td>B57 B59 B63 B66</td>\n      <td>C</td>\n    </tr>\n  </tbody>\n</table>\n</div>"
          },
          "metadata": {}
        }
      ],
      "execution_count": 11
    },
    {
      "cell_type": "markdown",
      "source": "**Давайте добавим новый признак.**",
      "metadata": {}
    },
    {
      "cell_type": "code",
      "source": "def age_category(age):\n    '''\n    < 30 -> 1\n    >= 30, <55 -> 2\n    >= 55 -> 3\n    '''\n    if age < 30:\n        return 1\n    elif age < 55:\n        return 2\n    elif age >= 55:\n        return 3",
      "metadata": {
        "trusted": true
      },
      "outputs": [],
      "execution_count": 12
    },
    {
      "cell_type": "code",
      "source": "age_categories = [age_category(age) for age in data.Age]\ndata['Age_category'] = age_categories",
      "metadata": {
        "trusted": true
      },
      "outputs": [],
      "execution_count": 13
    },
    {
      "cell_type": "markdown",
      "source": "**Другой способ сделать это с `apply`.**",
      "metadata": {}
    },
    {
      "cell_type": "code",
      "source": "data['Age_category'] = data['Age'].apply(age_category)",
      "metadata": {
        "trusted": true
      },
      "outputs": [],
      "execution_count": 14
    },
    {
      "cell_type": "markdown",
      "source": "**1. Сколько мужчин / женщин было на борту?**\n- 412 мужчин и 479 женщин\n- 314 мужчин и 577 женщин\n- 479 мужчин и 412 женщин\n- 577 мужчин и 314 женщин",
      "metadata": {}
    },
    {
      "cell_type": "code",
      "source": "data['Sex'].value_counts()",
      "metadata": {
        "trusted": true
      },
      "outputs": [
        {
          "execution_count": 28,
          "output_type": "execute_result",
          "data": {
            "text/plain": "Sex\nmale      577\nfemale    314\nName: count, dtype: int64"
          },
          "metadata": {}
        }
      ],
      "execution_count": 28
    },
    {
      "cell_type": "markdown",
      "source": "**2. Определите распределение функции `Pclass`. Теперь Для мужчин и женщин отдельно. Сколько людей из второго класса было на борту?**\n- 104\n- 108\n- 112\n- 125",
      "metadata": {}
    },
    {
      "cell_type": "code",
      "source": "man = data[(data['Pclass'] == 2) & (data['Sex'] == 'male')].shape[0]\nwoman = data[(data['Pclass'] == 2) & (data['Sex'] == 'female')].shape[0]\nprint(f'Mans = {man}, Womans = {woman} ')",
      "metadata": {
        "trusted": true
      },
      "outputs": [
        {
          "name": "stdout",
          "output_type": "stream",
          "text": "Mans = 108, Womans = 76 \n"
        }
      ],
      "execution_count": 39
    },
    {
      "cell_type": "markdown",
      "source": "**3. Каковы медиана и стандартное отклонение`Fare`?. Округлите до 2-х знаков после запятой.**\n- медиана 14,45, стандартное отклонение 49,69\n- медиана 15,1, стандартное отклонение 12,15\n- медиана 13,15, стандартное отклонение 35,3\n- Медиана 17,43, стандартное отклонение - 39,1.",
      "metadata": {}
    },
    {
      "cell_type": "code",
      "source": "med = data['Fare'].median()\nstd = data['Fare'].std()\nprint(f'Медиана = {round(med, 2)}, стандартное отклонение = {round(std, 2)}')",
      "metadata": {
        "trusted": true
      },
      "outputs": [
        {
          "name": "stdout",
          "output_type": "stream",
          "text": "Медиана = 14.45, стандартное отклонение = 49.69\n"
        }
      ],
      "execution_count": 42
    },
    {
      "cell_type": "markdown",
      "source": "** 4. Правда ли, что средний возраст выживших людей выше, чем у пассажиров, которые в конечном итоге умерли? **\n- Да\n- Нет\n",
      "metadata": {}
    },
    {
      "cell_type": "code",
      "source": "count_serv = data[data['Survived'] == 1].shape[0]\nage_serv = data[data['Survived'] == 1]['Age'].sum()\n\nan_count_serv = data[data['Survived'] == 0].shape[0]\nan_age_serv = data[data['Survived'] == 0]['Age'].sum()\n\nprint((age_serv/count_serv) > (an_age_serv/an_count_serv))\n",
      "metadata": {
        "trusted": true
      },
      "outputs": [
        {
          "name": "stdout",
          "output_type": "stream",
          "text": "True\n"
        }
      ],
      "execution_count": 48
    },
    {
      "cell_type": "markdown",
      "source": "**5. Это правда, что пассажиры моложе 30 лет. выжили чаще, чем те, кому больше 60 лет. Каковы доли выживших людей среди молодых и пожилых людей?**\n- 22,7% среди молодежи и 40,6% среди пожилых\n- 40,6% среди молодежи и 22,7% среди пожилых\n- 35,3% среди молодежи и 27,4% среди пожилых\n- 27,4% среди молодежи и 35,3% среди пожилых",
      "metadata": {}
    },
    {
      "cell_type": "code",
      "source": "age_60 = data[data['Age'] > 60].shape[0]\nage_30 = data[data['Age'] < 30].shape[0]\n\nage_below_30 = data[(data['Survived'] ==  1) & (data['Age'] < 30)].shape[0]\nage_higher_60 = data[(data['Survived'] ==  1) & (data['Age'] > 60)].shape[0]\n\nprint(f'Молодые = {round((age_below_30 / age_30) * 100, 1)}%')\nprint(f'Старые = {round((age_higher_60 / age_60) * 100, 1)}%')",
      "metadata": {
        "trusted": true
      },
      "outputs": [
        {
          "name": "stdout",
          "output_type": "stream",
          "text": "Молодые = 40.6%\nСтарые = 22.7%\n"
        }
      ],
      "execution_count": 68
    },
    {
      "cell_type": "raw",
      "source": "**6. Правда ли, что женщины выживали чаще мужчин? Каковы доли выживших людей среди мужчин и женщин?**\n- 30,2% среди мужчин и 46,2% среди женщин\n- 35,7% среди мужчин и 74,2% среди женщин\n- 21,1% среди мужчин и 46,2% среди женщин\n- 18,9% среди мужчин и 74,2% среди женщин",
      "metadata": {}
    },
    {
      "cell_type": "code",
      "source": "man = data[data['Sex'] == 'male'].shape[0]\nwoman = data[data['Sex'] == 'female'].shape[0]\n\nsur_man = data[(data['Survived'] == 1) & (data['Sex'] == 'male')].shape[0]\nsur_woman = data[(data['Survived'] == 1) & (data['Sex'] == 'female')].shape[0]\n\nprint(f'Мужчины = {round((sur_man / man) * 100, 1)}%')\nprint(f'Женщины = {round((sur_woman / woman) * 100, 1)}%')",
      "metadata": {
        "trusted": true
      },
      "outputs": [
        {
          "name": "stdout",
          "output_type": "stream",
          "text": "Мужчины = 18.9%\nЖенщины = 74.2%\n"
        }
      ],
      "execution_count": 73
    },
    {
      "cell_type": "markdown",
      "source": "**7. Какое имя наиболее популярно среди пассажиров мужского пола?**\n- Charles\n- Thomas\n- William\n- John",
      "metadata": {}
    },
    {
      "cell_type": "code",
      "source": "male_pass = data[data['Sex'] == 'male']\nnames = male_pass['Name'].str.split(',').str[1].str.split().str[1]\nmost_common_name = names.value_counts().idxmax()\nmost_common_name",
      "metadata": {
        "trusted": true
      },
      "outputs": [
        {
          "execution_count": 95,
          "output_type": "execute_result",
          "data": {
            "text/plain": "'William'"
          },
          "metadata": {}
        }
      ],
      "execution_count": 95
    },
    {
      "cell_type": "markdown",
      "source": "**8. Как средний возраст мужчин / женщин зависит от `Pclass`? Выберите все правильные утверждения:**\n- В среднем мужчины 1 класса старше 40 лет\n- В среднем женщины 1 класса старше 40 лет\n- Мужчины всех классов в среднем старше, чем женщины того же класса\n- В среднем, пассажиры первого класса старше, чем пассажиры 2-го класса, которые старше, чем пассажиры 3-го класса.",
      "metadata": {}
    },
    {
      "cell_type": "code",
      "source": "analitic = data.groupby(['Pclass', 'Sex'])['Age'].mean().unstack()\n\nmale_firstclass_age = analitic.loc[1, 'male']\nmale_secondclass_age = analitic.loc[2, 'male']\nmale_thirdclass_age = analitic.loc[3, 'male']\nprint(f'Средний возраст мужчин 1 класса: {male_firstclass_age : 1f}')\n\nwoman_firstclass_age = analitic.loc[1, 'female']\nwoman_secondclass_age = analitic.loc[2, 'female']\nwoman_thirdclass_age = analitic.loc[3, 'female']\nprint(f'Средний возраст женщин 1 класса: {woman_firstclass_age : 1f}')\n\nfull_age_man = (male_firstclass_age + male_secondclass_age + male_thirdclass_age) / 3\nfull_age_woman = (woman_firstclass_age + woman_secondclass_age + woman_thirdclass_age) / 3\nprint(full_age_man > full_age_woman)\n\n\n\n",
      "metadata": {
        "trusted": true
      },
      "outputs": [
        {
          "name": "stdout",
          "output_type": "stream",
          "text": "Средний возраст мужчин 1 класса:  41.281386\nСредний возраст женщин 1 класса:  34.611765\nTrue\n"
        }
      ],
      "execution_count": 111
    },
    {
      "cell_type": "markdown",
      "source": "\nAuthor: [Yury Kashnitsky](https://yorko.github.io). This material is subject to the terms and conditions of the [Creative Commons CC BY-NC-SA 4.0](https://creativecommons.org/licenses/by-nc-sa/4.0/) license. Free use is permitted for any non-commercial purpose.",
      "metadata": {}
    }
  ]
}